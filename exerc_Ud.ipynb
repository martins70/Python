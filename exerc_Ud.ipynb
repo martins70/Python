{
  "nbformat": 4,
  "nbformat_minor": 0,
  "metadata": {
    "colab": {
      "provenance": [],
      "authorship_tag": "ABX9TyM1gUW7oPqSnYrhdFqkmUpN",
      "include_colab_link": true
    },
    "kernelspec": {
      "name": "python3",
      "display_name": "Python 3"
    },
    "language_info": {
      "name": "python"
    }
  },
  "cells": [
    {
      "cell_type": "markdown",
      "metadata": {
        "id": "view-in-github",
        "colab_type": "text"
      },
      "source": [
        "<a href=\"https://colab.research.google.com/github/martins70/Python/blob/master/exerc_Ud.ipynb\" target=\"_parent\"><img src=\"https://colab.research.google.com/assets/colab-badge.svg\" alt=\"Open In Colab\"/></a>"
      ]
    },
    {
      "cell_type": "code",
      "execution_count": null,
      "metadata": {
        "id": "0pB0ySMAkn4G"
      },
      "outputs": [],
      "source": []
    },
    {
      "cell_type": "code",
      "source": [
        "store_name = 'Shopshoe'\n",
        "item_name = 'Running shoes'\n",
        "item_price = 100.00\n",
        "item_discount = 0.30\n",
        "\n",
        "discounted_price = item_price * (1 - item_discount)\n",
        "\n",
        "message = (\n",
        "    f'Welcome to {store_name}!\\n'\n",
        "    f'{\"-\" * 50}\\n'\n",
        "    f'Today\\'s special is the {item_name}, which normally costs '\n",
        "    f'${item_price:.2f}.\\nBut for a limited time, you can get it '\n",
        "    f'for ${discounted_price:.2f} ({item_discount:.0%} off)!'\n",
        ")\n",
        "\n",
        "print(message)"
      ],
      "metadata": {
        "id": "ZCpioVuIlOBX",
        "colab": {
          "base_uri": "https://localhost:8080/"
        },
        "outputId": "c0aeefb5-cf63-4131-da1f-db615c1fb8d0"
      },
      "execution_count": 1,
      "outputs": [
        {
          "output_type": "stream",
          "name": "stdout",
          "text": [
            "Welcome to Shopshoe!\n",
            "--------------------------------------------------\n",
            "Today's special is the Running shoes, which normally costs $100.00.\n",
            "But for a limited time, you can get it for $70.00 (30% off)!\n"
          ]
        }
      ]
    },
    {
      "cell_type": "markdown",
      "source": [],
      "metadata": {
        "id": "aRRfSxrmJU7U"
      }
    }
  ]
}