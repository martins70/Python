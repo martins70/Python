{
  "nbformat": 4,
  "nbformat_minor": 0,
  "metadata": {
    "colab": {
      "provenance": [],
      "authorship_tag": "ABX9TyNPoKJaAsn8diyVwt0C6BUq",
      "include_colab_link": true
    },
    "kernelspec": {
      "name": "python3",
      "display_name": "Python 3"
    },
    "language_info": {
      "name": "python"
    }
  },
  "cells": [
    {
      "cell_type": "markdown",
      "metadata": {
        "id": "view-in-github",
        "colab_type": "text"
      },
      "source": [
        "<a href=\"https://colab.research.google.com/github/martins70/Python/blob/master/git_exer_p.ipynb\" target=\"_parent\"><img src=\"https://colab.research.google.com/assets/colab-badge.svg\" alt=\"Open In Colab\"/></a>"
      ]
    },
    {
      "cell_type": "code",
      "execution_count": null,
      "metadata": {
        "id": "0pB0ySMAkn4G"
      },
      "outputs": [],
      "source": []
    },
    {
      "cell_type": "code",
      "source": [
        "store_name = 'Shopshoe'\n",
        "item_name = 'Running shoes'\n",
        "item_price = 100.00\n",
        "item_discount = 0.30\n",
        "\n",
        "discounted_price = item_price * (1 - item_discount)\n",
        "\n",
        "message = (\n",
        "    f'Welcome to {store_name}!\\n'\n",
        "    f'{\"-\" * 50}\\n'\n",
        "    f'Today\\'s special is the {item_name}, which normally costs '\n",
        "    f'${item_price:.2f}.\\nBut for a limited time, you can get it '\n",
        "    f'for ${discounted_price:.2f} ({item_discount:.0%} off)!'\n",
        ")\n",
        "\n",
        "print(message)"
      ],
      "metadata": {
        "id": "ZCpioVuIlOBX",
        "colab": {
          "base_uri": "https://localhost:8080/"
        },
        "outputId": "c0aeefb5-cf63-4131-da1f-db615c1fb8d0"
      },
      "execution_count": 1,
      "outputs": [
        {
          "output_type": "stream",
          "name": "stdout",
          "text": [
            "Welcome to Shopshoe!\n",
            "--------------------------------------------------\n",
            "Today's special is the Running shoes, which normally costs $100.00.\n",
            "But for a limited time, you can get it for $70.00 (30% off)!\n"
          ]
        }
      ]
    },
    {
      "cell_type": "markdown",
      "source": [],
      "metadata": {
        "id": "aRRfSxrmJU7U"
      }
    },
    {
      "cell_type": "code",
      "source": [
        "brand = 'Ford'\n",
        "model = 'Mustang'\n",
        "year = 2021\n",
        "color = 'Red'\n",
        "mileage = 5000\n",
        "\n",
        "print('CAR DETAILS')\n",
        "print(f'make: {brand}')\n",
        "print(f'Model: {model}')\n",
        "print(f'Year:  {year}')\n",
        "print(f'Color: {color}')\n",
        "print(f'Mileage: {mileage} miles')\n",
        "\n",
        "#message = (\n",
        "#   f'CAR DETAILS\\n'\n",
        "#    f'Make: {brand}\\n'\n",
        "#    f'Model: {model}\\n'\n",
        "#    f'Year: {year}\\n'\n",
        "#    f'Color: {color}\\n'\n",
        "#    f'Mileage: {mileage} miles'\n",
        "#)\n",
        "#print(message)"
      ],
      "metadata": {
        "colab": {
          "base_uri": "https://localhost:8080/"
        },
        "id": "BUbT_uYGxXGI",
        "outputId": "e6a14f53-9d66-4fe2-ff02-1672736153ae"
      },
      "execution_count": 8,
      "outputs": [
        {
          "output_type": "stream",
          "name": "stdout",
          "text": [
            "CAR DETAILS\n",
            "make: Ford\n",
            "Model: Mustang\n",
            "Year:  2021\n",
            "Color: Red\n",
            "Mileage: 5000 miles\n"
          ]
        }
      ]
    }
  ]
}